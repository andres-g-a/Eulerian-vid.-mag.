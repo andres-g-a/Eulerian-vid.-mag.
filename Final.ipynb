{
 "cells": [
  {
   "cell_type": "code",
   "execution_count": 1,
   "id": "ffcff663",
   "metadata": {},
   "outputs": [],
   "source": [
    "from utils import *"
   ]
  },
  {
   "cell_type": "code",
   "execution_count": null,
   "id": "3af73e6b",
   "metadata": {},
   "outputs": [],
   "source": [
    "def rgb2yiq(video):\n",
    "\n",
    "    yiq_from_rgb = np.array([[0.299, 0.587, 0.114],\n",
    "                             [0.596, -0.274, -0.322],\n",
    "                             [0.211, -0.523, 0.312]])\n",
    "    t = np.dot(video, yiq_from_rgb.T).astype('uint8')\n",
    "    return t\n",
    "\n",
    "\n",
    "def yiq2rgb(video):\n",
    "    \n",
    "    rgb_from_yiq = np.array([[1, 0.956, 0.621],\n",
    "                             [1, -0.272, -0.647],\n",
    "                             [1, -1.106, 1.703]])\n",
    "    t = np.dot(video, rgb_from_yiq.T).astype('uint8')\n",
    "    return t\n"
   ]
  },
  {
   "cell_type": "markdown",
   "id": "3f67d065",
   "metadata": {},
   "source": [
    "# PROCESAMIENTO DE \"baby2.mp4\" EN RGB"
   ]
  },
  {
   "cell_type": "code",
   "execution_count": 2,
   "id": "9f3253da",
   "metadata": {},
   "outputs": [],
   "source": [
    "baby2 = './data/baby2.mp4'\n",
    "\n",
    "#Separo el video en frames\n",
    "frames_baby2, nro_Frames_baby2, fps_baby2, filas_baby2, columnas_baby2 = video_to_frames(baby2)\n",
    "\n",
    "#Video gaussiano\n",
    "video_gaussiano_baby2 = gaussian_video(frames = frames_baby2, levels = 6)\n",
    "\n",
    "#Filtrado temporal\n",
    "amplified_frames_baby2 = ideal_filter(frames_baby2, video_gaussiano_baby2, chromAttenuation = 1, \n",
    "                                      fl = 140/40, fh = 160/40, frame_rate = fps_baby2, alpha = 150)\n",
    "\n",
    "frames_to_video(amplified_frames_baby2, 'Baby2_amplified_RGB', fps_baby2)"
   ]
  },
  {
   "cell_type": "markdown",
   "id": "b27be173",
   "metadata": {},
   "source": [
    "Nos da peor que el resultado en RGB"
   ]
  },
  {
   "cell_type": "markdown",
   "id": "a271ea35",
   "metadata": {},
   "source": [
    "# PROCESAMIENTO DE \"face.mp4\" EN RGB"
   ]
  },
  {
   "cell_type": "code",
   "execution_count": null,
   "id": "248c046f",
   "metadata": {},
   "outputs": [],
   "source": [
    "face = './data/face.mp4'\n",
    "\n",
    "#Separo el video en frames\n",
    "frames_face, nro_Frames_face, fps_face, filas_face, columnas_face = video_to_frames(face)\n",
    "\n",
    "#Video gaussiano\n",
    "video_gaussiano_face = gaussian_video(frames = frames_face, levels = 4)\n",
    "\n",
    "#Filtrado temporal\n",
    "amplified_frames_face = ideal_filter(frames_face, video_gaussiano_face, chromAttenuation = 1, \n",
    "                                      fl = 50/60, fh = 60/60, frame_rate = fps_face, alpha = 50)\n",
    "\n",
    "frames_to_video(amplified_frames_face, 'face_amplified_RGB', fps_face)"
   ]
  },
  {
   "cell_type": "markdown",
   "id": "7678c2bc",
   "metadata": {},
   "source": [
    "# PROCESAMIENTO DE \"graci.mp4\" EN RGB"
   ]
  },
  {
   "cell_type": "code",
   "execution_count": null,
   "id": "91bf8485",
   "metadata": {},
   "outputs": [],
   "source": [
    "graci = './data/graci.mp4'\n",
    "\n",
    "#Separo el video en frames\n",
    "frames_graci, nro_Frames_graci, fps_graci, filas_graci, columnas_graci = video_to_frames(graci)\n",
    "\n",
    "#Video gaussiano\n",
    "video_gaussiano_graci = gaussian_video(frames = frames_graci, levels = 6)\n",
    "\n",
    "#Filtrado temporal\n",
    "amplified_frames_graci = ideal_filter(frames_graci, video_gaussiano_graci, chromAttenuation = 1, \n",
    "                                      fl = 50/60, fh = 60/60, frame_rate = fps_graci, alpha = 150)\n",
    "\n",
    "frames_to_video(amplified_frames_graci, 'graci_amplified_RGB', fps_graci)"
   ]
  },
  {
   "cell_type": "markdown",
   "id": "9d7ebb26",
   "metadata": {},
   "source": [
    "# PROCESAMIENTO DE \"face2.mp4\" EN RGB"
   ]
  },
  {
   "cell_type": "code",
   "execution_count": null,
   "id": "006df5a6",
   "metadata": {},
   "outputs": [],
   "source": [
    "face2 = './data/face2.mp4'\n",
    "\n",
    "#Separo el video en frames\n",
    "frames_face2, nro_Frames_face2, fps_face2, filas_face2, columnas_face2 = video_to_frames(face2)\n",
    "\n",
    "#Video gaussiano\n",
    "video_gaussiano_face2 = gaussian_video(frames = frames_face2, levels = 6)\n",
    "\n",
    "#Filtrado temporal\n",
    "amplified_frames_face2 = ideal_filter(frames_face2, video_gaussiano_face2, chromAttenuation = 1, \n",
    "                                      fl = 50/60, fh = 60/60, frame_rate = fps_face2, alpha = 150)\n",
    "\n",
    "frames_to_video(amplified_frames_face2, 'face2_amplified_RGB', fps_face2)"
   ]
  },
  {
   "cell_type": "markdown",
   "id": "9f06180c",
   "metadata": {},
   "source": [
    "# PROCESAMIENTO DE \"andres.mp4\" EN RGB"
   ]
  },
  {
   "cell_type": "code",
   "execution_count": null,
   "id": "c814185d",
   "metadata": {},
   "outputs": [],
   "source": [
    "andres = './data/andres.mp4'\n",
    "\n",
    "#Separo el video en frames\n",
    "frames_andres, nro_Frames_andres, fps_andres, filas_andres, columnas_andres = video_to_frames(andres)\n",
    "\n",
    "#Video gaussiano\n",
    "video_gaussiano_andres = gaussian_video(frames = frames_andres, levels = 6)\n",
    "\n",
    "#Filtrado temporal\n",
    "amplified_frames_andres = ideal_filter(frames_andres, video_gaussiano_andres, chromAttenuation = 1, \n",
    "                                      fl = 50/60, fh = 60/60, frame_rate = fps_andres, alpha = 150)\n",
    "\n",
    "frames_to_video(amplified_frames_andres, 'andres_amplified_RGB', fps_andres)"
   ]
  },
  {
   "cell_type": "markdown",
   "id": "4761bfd4",
   "metadata": {},
   "source": [
    "# PROCESAMIENTO DE \"baby2.mp4\" EN YIQ"
   ]
  },
  {
   "cell_type": "code",
   "execution_count": null,
   "id": "e971ce20",
   "metadata": {},
   "outputs": [],
   "source": [
    "baby2 = './data/baby2.mp4'\n",
    "\n",
    "frames_baby2, nro_Frames, fps, filas, columnas = video_to_frames(baby2)\n",
    "\n",
    "frames_baby2_yiq = []\n",
    "for i in range(nro_Frames):\n",
    "    frames_baby2_yiq.append(rgb2yiq(frames_baby2[i]))\n",
    "    \n",
    "video_gaussiano_baby2_yiq = gaussian_video(frames = frames_baby2_yiq, levels = 6)\n",
    "\n",
    "amplified_frames_baby2_yiq = ideal_filter(frames_baby2_yiq, video_gaussiano_baby2_yiq, chromAttenuation = 1, \n",
    "                                      fl = 140/40, fh = 160/40, frame_rate = fps, alpha = 150)\n",
    "\n",
    "amplified_frames_baby2_rgb = []\n",
    "for i in range(nro_Frames):\n",
    "    amplified_frames_baby2_rgb.append(yiq2rgb(amplified_frames_baby2_yiq[i]))\n",
    "    \n",
    "frames_to_video(amplified_frames_baby2_rgb, 'Baby2_amplified_YIQ', fps)"
   ]
  },
  {
   "cell_type": "code",
   "execution_count": null,
   "id": "6bccf7b7",
   "metadata": {},
   "outputs": [],
   "source": [
    "def butter_filter_and_collapse_lpyr(original_frames, laplacian_video_pyramid, alpha, \n",
    "                                    spatial_cutoff, fl, fh, levels, frame_rate, columnas, filas):\n",
    "\n",
    "    '''\n",
    "    Función que aplica el filtro \n",
    "    \n",
    "        frames_originales: lista de frames originales del video (salida de video_to_frames)\n",
    "        laplacian_video_pyramid: pirámide laplaciana a filtrar (salida de la función frames_to_laplacian_pyr)\n",
    "        levels: nro de niveles de la piramide.\n",
    "        alpha: factor de amplificación\n",
    "        spatial_cutoff: valor de corte de frecuencia espacial\n",
    "        fl: frecuencia de corte baja\n",
    "        fh: frecuencia de corte alta\n",
    "        frame_rate: frames por segundo (salida de video_to_frames)\n",
    "        columnas: columnas de un frame del video (salida de la función video_to_frames)\n",
    "        filas: filas de un frame del video (salida de la función video_to_frames)\n",
    "    \n",
    "    '''\n",
    "\n",
    "    # apply butterworth filter\n",
    "    amplified_frames = apply_butter_filter(laplacian_video_pyramid, levels, alpha, spatial_cutoff, \n",
    "                             fl, fh, frame_rate, columnas, filas)\n",
    "\n",
    "    reconstructed_frames = collapse_lpyr(amplified_frames, levels)\n",
    "\n",
    "#     # chromatic attenuation\n",
    "#     reconstructed_frames[:][:][:][1] *= chromAttenuation\n",
    "#     reconstructed_frames[:][:][:][2] *= chromAttenuation\n",
    "\n",
    "    # Add to original\n",
    "    reconstructed_frames += original_frames\n",
    "\n",
    "#     # Cutoff wrong values\n",
    "#     reconstructed_frames[reconstructed_frames < 0] = 0\n",
    "#     reconstructed_frames[reconstructed_frames > 255] = 255\n",
    "\n",
    "    return recon_frames \n"
   ]
  },
  {
   "cell_type": "code",
   "execution_count": null,
   "id": "63b269d8",
   "metadata": {},
   "outputs": [],
   "source": [
    "# Calculo niveles de face2\n",
    "levels_face2 = laplacian_pyr_levels(columnas_face2, filas_face2)\n",
    "\n",
    "# Armo pirámide laplaciana\n",
    "lpyr_face2 = frames_to_laplacian_pyr(frames_face2, levels_face2)"
   ]
  },
  {
   "cell_type": "code",
   "execution_count": null,
   "id": "7ea2feab",
   "metadata": {},
   "outputs": [],
   "source": [
    "#Aplico filtro y reconstruyo piramide\n",
    "frames_amplificados_reconstruidos = butter_filter_and_collapse_lpyr(frames_face2, lpyr_face2, alpha = 20, \n",
    "                                    spatial_cutoff = 80, fl = 0.5, fh = 10, levels = levels_face2, \n",
    "                                frame_rate = fps_face2, columnas = columnas_face2, filas = filas_face2)"
   ]
  },
  {
   "cell_type": "code",
   "execution_count": null,
   "id": "3fe9a2d1",
   "metadata": {},
   "outputs": [],
   "source": []
  }
 ],
 "metadata": {
  "kernelspec": {
   "display_name": "Python 3",
   "language": "python",
   "name": "python3"
  },
  "language_info": {
   "codemirror_mode": {
    "name": "ipython",
    "version": 3
   },
   "file_extension": ".py",
   "mimetype": "text/x-python",
   "name": "python",
   "nbconvert_exporter": "python",
   "pygments_lexer": "ipython3",
   "version": "3.8.8"
  }
 },
 "nbformat": 4,
 "nbformat_minor": 5
}
